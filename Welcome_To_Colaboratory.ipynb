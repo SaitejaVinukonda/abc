{
  "cells": [
    {
      "cell_type": "markdown",
      "metadata": {
        "id": "view-in-github",
        "colab_type": "text"
      },
      "source": [
        "<a href=\"https://colab.research.google.com/github/SaitejaVinukonda/abc/blob/main/Welcome_To_Colaboratory.ipynb\" target=\"_parent\"><img src=\"https://colab.research.google.com/assets/colab-badge.svg\" alt=\"Open In Colab\"/></a>"
      ]
    },
    {
      "cell_type": "code",
      "source": [
        "import numpy as np\n",
        "def pearson_correlation(x, y):\n",
        "# Calculate means\n",
        " mean_x = np.mean(x)\n",
        " mean_y = np.mean(y)\n",
        "# Calculate covariance and standard deviations\n",
        " covariance = np.sum((x - mean_x) * (y - mean_y))\n",
        " std_dev_x = np.sqrt(np.sum((x - mean_x) ** 2))\n",
        " std_dev_y = np.sqrt(np.sum((y - mean_y) ** 2))\n",
        "# Calculate Pearson's correlation coefficient\n",
        " correlation = covariance / (std_dev_x * std_dev_y)\n",
        " return correlation\n",
        "# Example usage\n",
        "x = np.array([1, 2, 3, 4, 5])\n",
        "y = np.array([2, 3, 4, 5, 6])\n",
        "print(\"Pearson's Correlation Coefficient:\",pearson_correlation(x, y))"
      ],
      "metadata": {
        "colab": {
          "base_uri": "https://localhost:8080/"
        },
        "id": "__P81PbNMCab",
        "outputId": "0baea3ac-24ff-476d-a09d-1a7a6039b1ba"
      },
      "execution_count": 6,
      "outputs": [
        {
          "output_type": "stream",
          "name": "stdout",
          "text": [
            "Pearson's Correlation Coefficient: 0.9999999999999998\n"
          ]
        }
      ]
    },
    {
      "cell_type": "code",
      "source": [
        "from sklearn.metrics.pairwise import cosine_similarity\n",
        "# Example usage\n",
        "vector1 = np.array([1, 2, 3])\n",
        "vector2 = np.array([4, 5, 6])\n",
        "cosine_sim = cosine_similarity(vector1.reshape(1,-1),\n",
        "vector2.reshape(1,-1))\n",
        "print(\"Cosine Similarity:\", cosine_sim[0][0])\n"
      ],
      "metadata": {
        "colab": {
          "base_uri": "https://localhost:8080/"
        },
        "id": "ksWlx_8nNven",
        "outputId": "a131ca4c-37df-47ac-c9d1-068ad4194ee4"
      },
      "execution_count": 7,
      "outputs": [
        {
          "output_type": "stream",
          "name": "stdout",
          "text": [
            "Cosine Similarity: 0.9746318461970762\n"
          ]
        }
      ]
    },
    {
      "cell_type": "code",
      "source": [
        "def jaccard_similarity(set1, set2):\n",
        " intersection = len(set1.intersection(set2))\n",
        " union = len(set1.union(set2))\n",
        " return intersection / union\n",
        "# Example usage\n",
        "set1 = set([1, 2, 3])\n",
        "set2 = set([2, 3, 4])\n",
        "print(\"Jaccard Similarity:\",jaccard_similarity(set1, set2))"
      ],
      "metadata": {
        "colab": {
          "base_uri": "https://localhost:8080/"
        },
        "id": "Quo3WBKpOGRK",
        "outputId": "2b29b79e-b5fd-442b-da16-973ad4c4b97a"
      },
      "execution_count": 9,
      "outputs": [
        {
          "output_type": "stream",
          "name": "stdout",
          "text": [
            "Jaccard Similarity: 0.5\n"
          ]
        }
      ]
    },
    {
      "cell_type": "code",
      "source": [
        "def euclidean_distance(x, y):\n",
        " return np.sqrt(np.sum((x - y) ** 2))\n",
        "# Example usage\n",
        "point1 = np.array([1, 2, 3])\n",
        "point2 = np.array([4, 5, 6])\n",
        "print(\"Euclidean Distance:\",euclidean_distance(point1, point2))"
      ],
      "metadata": {
        "colab": {
          "base_uri": "https://localhost:8080/"
        },
        "id": "KzY2p9qhO_Q6",
        "outputId": "54841210-f6e2-4bfa-fe03-17adfdea762f"
      },
      "execution_count": 11,
      "outputs": [
        {
          "output_type": "stream",
          "name": "stdout",
          "text": [
            "Euclidean Distance: 5.196152422706632\n"
          ]
        }
      ]
    },
    {
      "cell_type": "code",
      "source": [
        "def manhattan_distance(x, y):\n",
        " return np.sum(np.abs(x - y))\n",
        "# Example usage\n",
        "point1 = np.array([1, 2, 3])\n",
        "point2 = np.array([4, 5, 6])\n",
        "print(\"Manhattan Distance:\",manhattan_distance(point1, point2))"
      ],
      "metadata": {
        "colab": {
          "base_uri": "https://localhost:8080/"
        },
        "id": "BOnxr_WnPHhq",
        "outputId": "8632896a-bfc9-404c-c998-a71691acd589"
      },
      "execution_count": 12,
      "outputs": [
        {
          "output_type": "stream",
          "name": "stdout",
          "text": [
            "Manhattan Distance: 9\n"
          ]
        }
      ]
    }
  ],
  "metadata": {
    "colab": {
      "name": "Welcome To Colaboratory",
      "toc_visible": true,
      "provenance": [],
      "include_colab_link": true
    },
    "kernelspec": {
      "display_name": "Python 3",
      "name": "python3"
    }
  },
  "nbformat": 4,
  "nbformat_minor": 0
}