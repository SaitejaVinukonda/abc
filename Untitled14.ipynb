{
  "nbformat": 4,
  "nbformat_minor": 0,
  "metadata": {
    "colab": {
      "provenance": [],
      "authorship_tag": "ABX9TyP58z5dbdmsuPDRt2wQoSh5",
      "include_colab_link": true
    },
    "kernelspec": {
      "name": "python3",
      "display_name": "Python 3"
    },
    "language_info": {
      "name": "python"
    }
  },
  "cells": [
    {
      "cell_type": "markdown",
      "metadata": {
        "id": "view-in-github",
        "colab_type": "text"
      },
      "source": [
        "<a href=\"https://colab.research.google.com/github/SaitejaVinukonda/abc/blob/main/Untitled14.ipynb\" target=\"_parent\"><img src=\"https://colab.research.google.com/assets/colab-badge.svg\" alt=\"Open In Colab\"/></a>"
      ]
    },
    {
      "cell_type": "code",
      "execution_count": 2,
      "metadata": {
        "colab": {
          "base_uri": "https://localhost:8080/"
        },
        "id": "ZAjPuo13rUMm",
        "outputId": "b0fe37c6-5722-4579-8857-eeb9e8f1f3be"
      },
      "outputs": [
        {
          "output_type": "stream",
          "name": "stderr",
          "text": [
            "[nltk_data] Error loading omw_1.4: Package 'omw_1.4' not found in\n",
            "[nltk_data]     index\n",
            "[nltk_data] Downloading package punkt to /root/nltk_data...\n",
            "[nltk_data]   Package punkt is already up-to-date!\n",
            "[nltk_data] Downloading package wordnet to /root/nltk_data...\n",
            "[nltk_data]   Package wordnet is already up-to-date!\n"
          ]
        },
        {
          "output_type": "stream",
          "name": "stdout",
          "text": [
            "lemma for studies is study\n",
            "lemma for studying is studying\n",
            "lemma for flies is fly\n",
            "lemma for fly is fly\n"
          ]
        }
      ],
      "source": [
        "import nltk\n",
        "nltk.download('omw_1.4')\n",
        "nltk.download('punkt')\n",
        "nltk.download('wordnet')\n",
        "from nltk.stem import WordNetLemmatizer\n",
        "wordnet_lemmatizer=WordNetLemmatizer()\n",
        "text=\"studies studying flies fly\"\n",
        "tokenization=nltk.word_tokenize(text)\n",
        "for w in tokenization:\n",
        "  print(\"lemma for {} is {}\".format(w,wordnet_lemmatizer.lemmatize(w)))"
      ]
    },
    {
      "cell_type": "code",
      "source": [
        "import nltk\n",
        "nltk.download('omw_1.4')\n",
        "nltk.download('punkt')\n",
        "nltk.download('wordnet')\n",
        "from nltk.stem.porter import PorterStemmer\n",
        "porter_stemmer=PorterStemmer()\n",
        "text=\"studies studying flies fly\"\n",
        "tokenization=nltk.word_tokenize(text)\n",
        "for w in tokenization:\n",
        "  print(\"lemma for {} is {}\".format(w,porter_stemmer.stem(w)))"
      ],
      "metadata": {
        "colab": {
          "base_uri": "https://localhost:8080/"
        },
        "id": "dg2rb84rsUL0",
        "outputId": "a5668424-9ab9-472e-f54d-b33ef9118fdd"
      },
      "execution_count": 3,
      "outputs": [
        {
          "output_type": "stream",
          "name": "stdout",
          "text": [
            "lemma for studies is studi\n",
            "lemma for studying is studi\n",
            "lemma for flies is fli\n",
            "lemma for fly is fli\n"
          ]
        },
        {
          "output_type": "stream",
          "name": "stderr",
          "text": [
            "[nltk_data] Error loading omw_1.4: Package 'omw_1.4' not found in\n",
            "[nltk_data]     index\n",
            "[nltk_data] Downloading package punkt to /root/nltk_data...\n",
            "[nltk_data]   Package punkt is already up-to-date!\n",
            "[nltk_data] Downloading package wordnet to /root/nltk_data...\n",
            "[nltk_data]   Package wordnet is already up-to-date!\n"
          ]
        }
      ]
    },
    {
      "cell_type": "code",
      "source": [
        "!pip install genism\n",
        "import genism\n",
        "from genism import corpora\n"
      ],
      "metadata": {
        "id": "rdwOnMUPtMlN"
      },
      "execution_count": null,
      "outputs": []
    }
  ]
}