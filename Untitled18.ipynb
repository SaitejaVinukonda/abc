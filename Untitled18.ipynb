{
  "nbformat": 4,
  "nbformat_minor": 0,
  "metadata": {
    "colab": {
      "provenance": [],
      "authorship_tag": "ABX9TyManJP38TnKJMpxoZMf8m+D",
      "include_colab_link": true
    },
    "kernelspec": {
      "name": "python3",
      "display_name": "Python 3"
    },
    "language_info": {
      "name": "python"
    }
  },
  "cells": [
    {
      "cell_type": "markdown",
      "metadata": {
        "id": "view-in-github",
        "colab_type": "text"
      },
      "source": [
        "<a href=\"https://colab.research.google.com/github/SaitejaVinukonda/abc/blob/main/Untitled18.ipynb\" target=\"_parent\"><img src=\"https://colab.research.google.com/assets/colab-badge.svg\" alt=\"Open In Colab\"/></a>"
      ]
    },
    {
      "cell_type": "code",
      "execution_count": 1,
      "metadata": {
        "colab": {
          "base_uri": "https://localhost:8080/",
          "height": 106
        },
        "id": "scFNAWaQmlkw",
        "outputId": "9ca53a3f-c2dc-4add-cc3b-2b2b023f49f3"
      },
      "outputs": [
        {
          "output_type": "error",
          "ename": "SyntaxError",
          "evalue": "unmatched ')' (<ipython-input-1-72f1f27f0015>, line 48)",
          "traceback": [
            "\u001b[0;36m  File \u001b[0;32m\"<ipython-input-1-72f1f27f0015>\"\u001b[0;36m, line \u001b[0;32m48\u001b[0m\n\u001b[0;31m    indexed) as the target\u001b[0m\n\u001b[0m           ^\u001b[0m\n\u001b[0;31mSyntaxError\u001b[0m\u001b[0;31m:\u001b[0m unmatched ')'\n"
          ]
        }
      ],
      "source": [
        "import numpy as np\n",
        "import pandas as pd\n",
        "import matplotlib.pyplot as plt\n",
        "import squarify\n",
        "import seaborn as sns\n",
        "from mlxtend.frequent_patterns import apriori\n",
        "from mlxtend.frequent_patterns import association_rules\n",
        "from mlxtend.preprocessing import TransactionEncoder\n",
        "data = pd.read_csv('/content/store_data.csv', header=None)\n",
        "print(\"Shape of the dataset:\", data.shape)\n",
        "print(\"First few rows of the dataset:\")\n",
        "print(data.head())\n",
        "plt.rcParams['figure.figsize'] = (12, 8)\n",
        "color = plt.cm.copper(np.linspace(0, 1, 40))\n",
        "# Count the frequency of each item in the first column of the dataset\n",
        "# Select the top 40 most frequent items and plot them as a bar chart\n",
        "data[0].value_counts().head(40).plot.bar(color=color)\n",
        "# Set the title of the plot\n",
        "plt.title('Frequency of Most Popular Items', fontsize=20)\n",
        "# Rotate the x-axis labels by 90 degrees for better readability\n",
        "plt.xticks(rotation=90)\n",
        "# Add grid lines to the plot\n",
        "plt.grid()\n",
        "# Display the plot\n",
        "plt.show()\n",
        "# Count the frequency of each item in the first column of the dataset\n",
        "# Select the top 50 most frequent items and convert it to a DataFrame\n",
        "y = data[0].value_counts().head(50).to_frame()\n",
        "# Get the index (item names) from the DataFrame\n",
        "y.index\n",
        "# Set the size of the plot\n",
        "plt.rcParams['figure.figsize'] = (18, 8)\n",
        "# Generate a range of colors for the treemap\n",
        "color = plt.cm.cool(np.linspace(0, 1, 50))\n",
        "# Plot the treemap\n",
        "squarify.plot(sizes=y.values, label=y.index, alpha=0.8, color=color)\n",
        "plt.title('Tree Map for Popular Items')\n",
        "# Turn off the axis\n",
        "plt.axis('off')\n",
        "# Display the plot\n",
        "plt.show()\n",
        "# Add a new column 'food' with all values set to 'Food'\n",
        "data['food'] = 'Food'\n",
        "# Select the top 15 rows from the dataset\n",
        "food = data.truncate(before=-1, after=15)\n",
        "import networkx as nx\n",
        "# Create a graph from the DataFrame using the 'food' column as the source and the first column (0-\n",
        "indexed) as the target\n",
        "food = nx.from_pandas_edgelist(food, source='food', target=0, edge_attr=True)\n",
        "# Suppress warnings\n",
        "import warnings\n",
        "warnings.filterwarnings('ignore')\n",
        "# Set the size of the plot\n",
        "plt.rcParams['figure.figsize'] = (18, 8)\n",
        "# Generate the layout for the nodes\n",
        "pos = nx.spring_layout(food)\n",
        "# Generate colors for the nodes\n",
        "color = plt.cm.Wistia(np.linspace(0, 15, 1))\n",
        "squarify.plot(sizes=y.values, label=y.index, alpha=0.8, color=color)\n",
        "plt.title('Tree Map for Popular Items')\n",
        "# Turn off the axis\n",
        "plt.axis('off')\n",
        "# Display the plot\n",
        "plt.show()\n",
        "# Add a new column 'food' with all values set to 'Food'\n",
        "data['food'] = 'Food'\n",
        "# Select the top 15 rows from the dataset\n",
        "food = data.truncate(before=-1, after=15)\n",
        "# Import the networkx library\n",
        "import networkx as nx\n",
        "# Create a graph from the DataFrame using the 'food' column as the source and the first column (0-\n",
        "indexed) as the target\n",
        "food = nx.from_pandas_edgelist(food, source='food', target=0, edge_attr=True)\n",
        "# Suppress warnings\n",
        "import warnings\n",
        "warnings.filterwarnings('ignore')\n",
        "# Set the size of the plot\n",
        "plt.rcParams['figure.figsize'] = (18, 8)\n",
        "# Generate the layout for the nodes\n",
        "pos = nx.spring_layout(food)\n",
        "# Generate colors for the nodes\n",
        "color = plt.cm.Wistia(np.linspace(0, 15, 1))\n",
        "# Draw the nodes with specified positions, sizes, and colors\n",
        "nx.draw_networkx_nodes(food, pos, node_size=15000, node_color=color)\n",
        "# Draw the edges of the graph\n",
        "nx.draw_networkx_edges(food, pos, width=3, alpha=0.6, edge_color='black'\n",
        "nx.draw_networkx_labels(food, pos, font_size=20, font_family='sans-serif')\n",
        "plt.axis('off')\n",
        "plt.grid()\n",
        "plt.title('Top 15 First Choices', fontsize=40)\n",
        "plt.show()\n",
        "transactions = []\n",
        "for i in range(len(data)):\n",
        " transactions.append([str(data.values[i, j]) for j in range(len(data.columns))])\n",
        "te = TransactionEncoder()\n",
        "te_ary = te.fit(transactions).transform(transactions)\n",
        "df = pd.DataFrame(te_ary, columns=te.columns_)\n",
        "frequent_itemsets = apriori(df, min_support=0.05, use_colnames=True)\n",
        "print(\"Frequent Itemsets with at least 5% support:\")\n",
        "print(frequent_itemsets)"
      ]
    }
  ]
}